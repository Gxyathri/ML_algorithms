{
  "nbformat": 4,
  "nbformat_minor": 0,
  "metadata": {
    "colab": {
      "provenance": []
    },
    "kernelspec": {
      "name": "python3",
      "display_name": "Python 3"
    },
    "language_info": {
      "name": "python"
    }
  },
  "cells": [
    {
      "cell_type": "code",
      "execution_count": null,
      "metadata": {
        "colab": {
          "base_uri": "https://localhost:8080/"
        },
        "id": "wtbnsyulOB9W",
        "outputId": "3bf6d743-7f2c-45e8-e710-aae323f0899d"
      },
      "outputs": [
        {
          "output_type": "stream",
          "name": "stdout",
          "text": [
            "Predicted labels for the test data:\n",
            "Sample 1: Predicted=0, Actual=0\n",
            "Sample 2: Predicted=1, Actual=1\n",
            "Sample 3: Predicted=1, Actual=1\n",
            "Sample 4: Predicted=0, Actual=0\n",
            "Sample 5: Predicted=2, Actual=2\n",
            "Sample 6: Predicted=2, Actual=1\n",
            "Sample 7: Predicted=2, Actual=2\n",
            "Sample 8: Predicted=0, Actual=0\n",
            "Sample 9: Predicted=0, Actual=0\n",
            "Sample 10: Predicted=2, Actual=2\n",
            "Sample 11: Predicted=1, Actual=1\n",
            "Sample 12: Predicted=0, Actual=0\n",
            "Sample 13: Predicted=2, Actual=2\n",
            "Sample 14: Predicted=1, Actual=1\n",
            "Sample 15: Predicted=1, Actual=1\n",
            "Sample 16: Predicted=0, Actual=0\n",
            "Sample 17: Predicted=1, Actual=1\n",
            "Sample 18: Predicted=1, Actual=1\n",
            "Sample 19: Predicted=0, Actual=0\n",
            "Sample 20: Predicted=0, Actual=0\n",
            "Sample 21: Predicted=1, Actual=1\n",
            "Sample 22: Predicted=1, Actual=1\n",
            "Sample 23: Predicted=2, Actual=1\n",
            "Sample 24: Predicted=0, Actual=0\n",
            "Sample 25: Predicted=2, Actual=2\n",
            "Sample 26: Predicted=1, Actual=1\n",
            "Sample 27: Predicted=0, Actual=0\n",
            "Sample 28: Predicted=0, Actual=0\n",
            "Sample 29: Predicted=1, Actual=1\n",
            "Sample 30: Predicted=2, Actual=2\n",
            "Sample 31: Predicted=1, Actual=1\n",
            "Sample 32: Predicted=2, Actual=2\n",
            "Sample 33: Predicted=1, Actual=1\n",
            "Sample 34: Predicted=2, Actual=2\n",
            "Sample 35: Predicted=2, Actual=2\n",
            "Sample 36: Predicted=0, Actual=0\n",
            "Sample 37: Predicted=1, Actual=1\n",
            "Sample 38: Predicted=0, Actual=0\n",
            "Sample 39: Predicted=1, Actual=1\n",
            "Sample 40: Predicted=2, Actual=2\n",
            "Sample 41: Predicted=2, Actual=2\n",
            "Sample 42: Predicted=0, Actual=0\n",
            "Sample 43: Predicted=1, Actual=2\n",
            "Sample 44: Predicted=2, Actual=2\n",
            "Sample 45: Predicted=1, Actual=1\n",
            "Sample 46: Predicted=2, Actual=2\n",
            "Sample 47: Predicted=0, Actual=0\n",
            "Sample 48: Predicted=0, Actual=0\n",
            "Sample 49: Predicted=0, Actual=0\n",
            "Sample 50: Predicted=1, Actual=1\n",
            "Sample 51: Predicted=0, Actual=0\n",
            "Sample 52: Predicted=0, Actual=0\n",
            "Sample 53: Predicted=2, Actual=2\n",
            "Sample 54: Predicted=2, Actual=2\n",
            "Sample 55: Predicted=2, Actual=2\n",
            "Sample 56: Predicted=2, Actual=2\n",
            "Sample 57: Predicted=2, Actual=2\n",
            "Sample 58: Predicted=1, Actual=1\n",
            "Sample 59: Predicted=2, Actual=2\n",
            "Sample 60: Predicted=1, Actual=1\n",
            "Gaussian Naive Bayes model accuracy(in %): 95.0\n"
          ]
        }
      ],
      "source": [
        "from sklearn.datasets import load_iris\n",
        "iris = load_iris()\n",
        "X = iris.data\n",
        "y = iris.target\n",
        "from sklearn.model_selection import train_test_split\n",
        "X_train, X_test, y_train, y_test = train_test_split(X, y, test_size=0.4, random_state=1)\n",
        "from sklearn.naive_bayes import GaussianNB\n",
        "model = GaussianNB()\n",
        "model.fit(X_train, y_train)\n",
        "y_pred = model.predict(X_test)\n",
        "print(\"Predicted labels for the test data:\")\n",
        "for i in range(len(y_pred)):\n",
        "    print(f\"Sample {i+1}: Predicted={y_pred[i]}, Actual={y_test[i]}\")\n",
        "from sklearn import metrics\n",
        "print(\"Gaussian Naive Bayes model accuracy(in %):\", metrics.accuracy_score(y_test, y_pred)*100)"
      ]
    },
    {
      "cell_type": "code",
      "source": [
        "from sklearn.svm import SVC\n",
        "from sklearn.metrics import accuracy_score\n",
        "model = SVC()\n",
        "model.fit(X_train, y_train)\n",
        "y_pred = model.predict(X_test)\n",
        "print(\"Predicted labels for the test data:\")\n",
        "for i in range(len(y_pred)):\n",
        "    print(f\"Sample {i+1}: Predicted={y_pred[i]}, Actual={y_test[i]}\")\n",
        "accuracy = metrics.accuracy_score(y_test, y_pred)\n",
        "print(\"Accuracy:\", accuracy)"
      ],
      "metadata": {
        "colab": {
          "base_uri": "https://localhost:8080/"
        },
        "id": "7F0BMu8oQbFc",
        "outputId": "d98afda0-ddb2-43d0-c549-3ce34d4e455c"
      },
      "execution_count": null,
      "outputs": [
        {
          "output_type": "stream",
          "name": "stdout",
          "text": [
            "Predicted labels for the test data:\n",
            "Sample 1: Predicted=0, Actual=0\n",
            "Sample 2: Predicted=1, Actual=1\n",
            "Sample 3: Predicted=1, Actual=1\n",
            "Sample 4: Predicted=0, Actual=0\n",
            "Sample 5: Predicted=2, Actual=2\n",
            "Sample 6: Predicted=1, Actual=1\n",
            "Sample 7: Predicted=2, Actual=2\n",
            "Sample 8: Predicted=0, Actual=0\n",
            "Sample 9: Predicted=0, Actual=0\n",
            "Sample 10: Predicted=2, Actual=2\n",
            "Sample 11: Predicted=1, Actual=1\n",
            "Sample 12: Predicted=0, Actual=0\n",
            "Sample 13: Predicted=2, Actual=2\n",
            "Sample 14: Predicted=1, Actual=1\n",
            "Sample 15: Predicted=1, Actual=1\n",
            "Sample 16: Predicted=0, Actual=0\n",
            "Sample 17: Predicted=1, Actual=1\n",
            "Sample 18: Predicted=1, Actual=1\n",
            "Sample 19: Predicted=0, Actual=0\n",
            "Sample 20: Predicted=0, Actual=0\n",
            "Sample 21: Predicted=1, Actual=1\n",
            "Sample 22: Predicted=1, Actual=1\n",
            "Sample 23: Predicted=2, Actual=1\n",
            "Sample 24: Predicted=0, Actual=0\n",
            "Sample 25: Predicted=2, Actual=2\n",
            "Sample 26: Predicted=1, Actual=1\n",
            "Sample 27: Predicted=0, Actual=0\n",
            "Sample 28: Predicted=0, Actual=0\n",
            "Sample 29: Predicted=1, Actual=1\n",
            "Sample 30: Predicted=2, Actual=2\n",
            "Sample 31: Predicted=1, Actual=1\n",
            "Sample 32: Predicted=2, Actual=2\n",
            "Sample 33: Predicted=1, Actual=1\n",
            "Sample 34: Predicted=2, Actual=2\n",
            "Sample 35: Predicted=2, Actual=2\n",
            "Sample 36: Predicted=0, Actual=0\n",
            "Sample 37: Predicted=1, Actual=1\n",
            "Sample 38: Predicted=0, Actual=0\n",
            "Sample 39: Predicted=1, Actual=1\n",
            "Sample 40: Predicted=2, Actual=2\n",
            "Sample 41: Predicted=2, Actual=2\n",
            "Sample 42: Predicted=0, Actual=0\n",
            "Sample 43: Predicted=2, Actual=2\n",
            "Sample 44: Predicted=2, Actual=2\n",
            "Sample 45: Predicted=1, Actual=1\n",
            "Sample 46: Predicted=2, Actual=2\n",
            "Sample 47: Predicted=0, Actual=0\n",
            "Sample 48: Predicted=0, Actual=0\n",
            "Sample 49: Predicted=0, Actual=0\n",
            "Sample 50: Predicted=1, Actual=1\n",
            "Sample 51: Predicted=0, Actual=0\n",
            "Sample 52: Predicted=0, Actual=0\n",
            "Sample 53: Predicted=2, Actual=2\n",
            "Sample 54: Predicted=2, Actual=2\n",
            "Sample 55: Predicted=2, Actual=2\n",
            "Sample 56: Predicted=2, Actual=2\n",
            "Sample 57: Predicted=2, Actual=2\n",
            "Sample 58: Predicted=1, Actual=1\n",
            "Sample 59: Predicted=2, Actual=2\n",
            "Sample 60: Predicted=1, Actual=1\n",
            "Accuracy: 0.9833333333333333\n"
          ]
        }
      ]
    }
  ]
}